{
 "cells": [
  {
   "cell_type": "markdown",
   "id": "712408be",
   "metadata": {},
   "source": [
    "## Download MobileLLM (125M) weights from HuggingFace"
   ]
  },
  {
   "cell_type": "code",
   "execution_count": null,
   "id": "620bb1c8",
   "metadata": {},
   "outputs": [],
   "source": [
    "!mkdir -p ../data/MobileLLM\n",
    "\n",
    "!sudo apt install openmpi-bin openmpi-doc libopenmpi-dev\n",
    "!curl -L -o ../data/MobileLLM/model.safetensors https://huggingface.co/mia-llm/MobileLLM-125M-wikitext2raw-hosein/resolve/main/model.safetensors\n",
    "!curl -L -o ../data/MobileLLM/config.json https://huggingface.co/mia-llm/MobileLLM-125M-wikitext2raw-hosein/resolve/main/config.json"
   ]
  },
  {
   "cell_type": "code",
   "execution_count": null,
   "id": "18dc0c42",
   "metadata": {},
   "outputs": [],
   "source": [
    "from transformers import LlamaConfig\n",
    "from attention_approximation.modeling_llama import LlamaForCausalLM as TeacherModel\n",
    "from attention_approximation.pytorch import intersect_dicts\n",
    "from attention_approximation.utils import LOGGER\n",
    "import safetensors\n",
    "from attention_approximation.modeling_llama_approximated import LlamaModel\n",
    "from copy import copy\n",
    "import torch\n",
    "from collections.abc import Callable\n",
    "from torch import nn\n",
    "from attention_approximation.modeling_llama_approximated import LlamaApproximatedAttention\n",
    "\n",
    "\n",
    "model_config_path = \"../data/MobileLLM/config.json\"\n",
    "model_weights_path = \"../data/MobileLLM/model.safetensors\"\n",
    "device = torch.device(\"cuda\" if torch.cuda.is_available() else \"mps\" if torch.backends.mps.is_available() else \"cpu\")\n",
    "\n",
    "# Instantiate teacher\n",
    "config = LlamaConfig().from_json_file(model_config_path)\n",
    "model = TeacherModel(config)\n",
    "checkpoint = safetensors.torch.load_file(model_weights_path)\n",
    "csd = intersect_dicts(checkpoint, model.state_dict())  # intersect\n",
    "model.load_state_dict(csd, strict=False)  # load\n",
    "LOGGER.info(f\"Transferred {len(csd)}/{len(model.state_dict())} items from pretrained weights\")\n",
    "model.eval().to(device)\n",
    "\n",
    "# Student config\n",
    "student_config = copy(config)\n",
    "student_config.factorization_rank = 16 # config.hidden_size // 4  # Low-rank factorization\n",
    "student_config.layer_sharing = False\n",
    "student_config.seq_length = 512\n",
    "\n",
    "\n",
    "class AttentionDistillationWrapper(nn.Module):\n",
    "    def __init__(self, student_att: Callable, teacher_att: nn.Module, config: LlamaConfig):\n",
    "        super().__init__()\n",
    "        self.student_att = student_att(config=config, all_indices=config.all_indices)\n",
    "        self.teacher_att = teacher_att\n",
    "\n",
    "    def forward(self, *args, **kwargs):\n",
    "        student_outputs = self.student_att(*args, **kwargs)\n",
    "        with torch.inference_mode():\n",
    "            teacher_outputs = self.teacher_att(*args, **kwargs)\n",
    "        student_hidden_states = teacher_outputs[0] if isinstance(teacher_outputs, tuple) else teacher_outputs\n",
    "        teacher_hidden_states = student_outputs[0] if isinstance(student_outputs, tuple) else student_outputs\n",
    "        att_loss = torch.linalg.vector_norm(student_hidden_states - teacher_hidden_states, dim=-1).mean() * (student_hidden_states[0].size(-1) ** -0.5)\n",
    "        return (teacher_hidden_states, att_loss, ) + teacher_outputs[2:]\n",
    "\n",
    "\n",
    "grid_y, grid_x = torch.meshgrid(\n",
    "    torch.arange(student_config.seq_length, dtype=torch.long),\n",
    "    torch.arange(student_config.hidden_size, dtype=torch.long),\n",
    "    indexing=\"ij\"\n",
    ")\n",
    "all_indices = torch.stack([grid_y, grid_x], dim=-1).view(-1, 2)\n",
    "student_config.all_indices = all_indices.to(device)\n",
    "\n",
    "\n",
    "model.requires_grad = False\n",
    "for layer in model.model.layers:\n",
    "    layer.self_attn = AttentionDistillationWrapper(student_att=LlamaApproximatedAttention, teacher_att=layer.self_attn, config=student_config)\n",
    "\n",
    "\n",
    "\n",
    "model = model.to(device)\n",
    "x = torch.randint(0, config.vocab_size, (8, 512)).to(device)\n",
    "model(x)  # Test forward pass\n"
   ]
  }
 ],
 "metadata": {
  "kernelspec": {
   "display_name": "attention-approximation",
   "language": "python",
   "name": "python3"
  },
  "language_info": {
   "codemirror_mode": {
    "name": "ipython",
    "version": 3
   },
   "file_extension": ".py",
   "mimetype": "text/x-python",
   "name": "python",
   "nbconvert_exporter": "python",
   "pygments_lexer": "ipython3",
   "version": "3.10.16"
  }
 },
 "nbformat": 4,
 "nbformat_minor": 5
}
